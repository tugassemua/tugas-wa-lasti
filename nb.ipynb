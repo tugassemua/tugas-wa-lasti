{
 "cells": [
  {
   "cell_type": "code",
   "execution_count": 29,
   "id": "7ec727d5-d602-45e9-804b-65b06539846e",
   "metadata": {},
   "outputs": [],
   "source": [
    "# Import library\n",
    "import pandas as pd\n",
    "import numpy as np\n",
    "\n",
    "from sklearn.preprocessing import LabelEncoder, StandardScaler\n",
    "from sklearn.model_selection import train_test_split\n",
    "from sklearn.naive_bayes import GaussianNB\n",
    "from sklearn.metrics import accuracy_score, classification_report, confusion_matrix\n",
    "\n",
    "\n",
    "#data = pd.read_clipboard()"
   ]
  },
  {
   "cell_type": "code",
   "execution_count": 14,
   "id": "1d13cf39-61ca-4b32-ba4f-b34a9181fa1f",
   "metadata": {},
   "outputs": [],
   "source": [
    "data = pd.read_clipboard(sep=',')\n"
   ]
  },
  {
   "cell_type": "code",
   "execution_count": 15,
   "id": "b6e72d73-5b93-4ed0-965c-05e4a201e5db",
   "metadata": {},
   "outputs": [
    {
     "data": {
      "text/html": [
       "<div>\n",
       "<style scoped>\n",
       "    .dataframe tbody tr th:only-of-type {\n",
       "        vertical-align: middle;\n",
       "    }\n",
       "\n",
       "    .dataframe tbody tr th {\n",
       "        vertical-align: top;\n",
       "    }\n",
       "\n",
       "    .dataframe thead th {\n",
       "        text-align: right;\n",
       "    }\n",
       "</style>\n",
       "<table border=\"1\" class=\"dataframe\">\n",
       "  <thead>\n",
       "    <tr style=\"text-align: right;\">\n",
       "      <th></th>\n",
       "      <th>Matematika</th>\n",
       "      <th>Seni</th>\n",
       "      <th>Olahraga</th>\n",
       "      <th>Teknologi</th>\n",
       "      <th>Bakat</th>\n",
       "    </tr>\n",
       "  </thead>\n",
       "  <tbody>\n",
       "    <tr>\n",
       "      <th>0</th>\n",
       "      <td>88</td>\n",
       "      <td>58</td>\n",
       "      <td>64</td>\n",
       "      <td>85</td>\n",
       "      <td>Akademik</td>\n",
       "    </tr>\n",
       "    <tr>\n",
       "      <th>1</th>\n",
       "      <td>78</td>\n",
       "      <td>73</td>\n",
       "      <td>81</td>\n",
       "      <td>87</td>\n",
       "      <td>Atletik</td>\n",
       "    </tr>\n",
       "    <tr>\n",
       "      <th>2</th>\n",
       "      <td>64</td>\n",
       "      <td>50</td>\n",
       "      <td>81</td>\n",
       "      <td>89</td>\n",
       "      <td>Atletik</td>\n",
       "    </tr>\n",
       "    <tr>\n",
       "      <th>3</th>\n",
       "      <td>92</td>\n",
       "      <td>93</td>\n",
       "      <td>73</td>\n",
       "      <td>69</td>\n",
       "      <td>Umum</td>\n",
       "    </tr>\n",
       "    <tr>\n",
       "      <th>4</th>\n",
       "      <td>57</td>\n",
       "      <td>57</td>\n",
       "      <td>90</td>\n",
       "      <td>84</td>\n",
       "      <td>Atletik</td>\n",
       "    </tr>\n",
       "    <tr>\n",
       "      <th>...</th>\n",
       "      <td>...</td>\n",
       "      <td>...</td>\n",
       "      <td>...</td>\n",
       "      <td>...</td>\n",
       "      <td>...</td>\n",
       "    </tr>\n",
       "    <tr>\n",
       "      <th>95</th>\n",
       "      <td>64</td>\n",
       "      <td>86</td>\n",
       "      <td>82</td>\n",
       "      <td>66</td>\n",
       "      <td>Artistik</td>\n",
       "    </tr>\n",
       "    <tr>\n",
       "      <th>96</th>\n",
       "      <td>94</td>\n",
       "      <td>82</td>\n",
       "      <td>73</td>\n",
       "      <td>89</td>\n",
       "      <td>Akademik</td>\n",
       "    </tr>\n",
       "    <tr>\n",
       "      <th>97</th>\n",
       "      <td>50</td>\n",
       "      <td>91</td>\n",
       "      <td>60</td>\n",
       "      <td>82</td>\n",
       "      <td>Artistik</td>\n",
       "    </tr>\n",
       "    <tr>\n",
       "      <th>98</th>\n",
       "      <td>74</td>\n",
       "      <td>93</td>\n",
       "      <td>98</td>\n",
       "      <td>58</td>\n",
       "      <td>Atletik</td>\n",
       "    </tr>\n",
       "    <tr>\n",
       "      <th>99</th>\n",
       "      <td>56</td>\n",
       "      <td>73</td>\n",
       "      <td>57</td>\n",
       "      <td>92</td>\n",
       "      <td>Umum</td>\n",
       "    </tr>\n",
       "  </tbody>\n",
       "</table>\n",
       "<p>100 rows × 5 columns</p>\n",
       "</div>"
      ],
      "text/plain": [
       "    Matematika  Seni  Olahraga  Teknologi     Bakat\n",
       "0           88    58        64         85  Akademik\n",
       "1           78    73        81         87   Atletik\n",
       "2           64    50        81         89   Atletik\n",
       "3           92    93        73         69      Umum\n",
       "4           57    57        90         84   Atletik\n",
       "..         ...   ...       ...        ...       ...\n",
       "95          64    86        82         66  Artistik\n",
       "96          94    82        73         89  Akademik\n",
       "97          50    91        60         82  Artistik\n",
       "98          74    93        98         58   Atletik\n",
       "99          56    73        57         92      Umum\n",
       "\n",
       "[100 rows x 5 columns]"
      ]
     },
     "execution_count": 15,
     "metadata": {},
     "output_type": "execute_result"
    }
   ],
   "source": [
    "data"
   ]
  },
  {
   "cell_type": "code",
   "execution_count": 30,
   "id": "5f1542fd-0fbe-4851-92db-5c02ae56ecce",
   "metadata": {},
   "outputs": [
    {
     "name": "stdout",
     "output_type": "stream",
     "text": [
      "<class 'pandas.core.frame.DataFrame'>\n",
      "RangeIndex: 100 entries, 0 to 99\n",
      "Data columns (total 5 columns):\n",
      " #   Column      Non-Null Count  Dtype \n",
      "---  ------      --------------  ----- \n",
      " 0   Matematika  100 non-null    int64 \n",
      " 1   Seni        100 non-null    int64 \n",
      " 2   Olahraga    100 non-null    int64 \n",
      " 3   Teknologi   100 non-null    int64 \n",
      " 4   Bakat       100 non-null    object\n",
      "dtypes: int64(4), object(1)\n",
      "memory usage: 4.0+ KB\n"
     ]
    }
   ],
   "source": [
    "data.info()"
   ]
  },
  {
   "cell_type": "code",
   "execution_count": 31,
   "id": "33772218-f3d8-4099-a1d8-51cb8a7ef126",
   "metadata": {},
   "outputs": [
    {
     "data": {
      "text/plain": [
       "False"
      ]
     },
     "execution_count": 31,
     "metadata": {},
     "output_type": "execute_result"
    }
   ],
   "source": [
    "data.empty"
   ]
  },
  {
   "cell_type": "code",
   "execution_count": 32,
   "id": "9c2a257d-7bcd-4a6f-a20c-799f1a5e941e",
   "metadata": {},
   "outputs": [
    {
     "data": {
      "text/html": [
       "<div>\n",
       "<style scoped>\n",
       "    .dataframe tbody tr th:only-of-type {\n",
       "        vertical-align: middle;\n",
       "    }\n",
       "\n",
       "    .dataframe tbody tr th {\n",
       "        vertical-align: top;\n",
       "    }\n",
       "\n",
       "    .dataframe thead th {\n",
       "        text-align: right;\n",
       "    }\n",
       "</style>\n",
       "<table border=\"1\" class=\"dataframe\">\n",
       "  <thead>\n",
       "    <tr style=\"text-align: right;\">\n",
       "      <th></th>\n",
       "      <th>Matematika</th>\n",
       "      <th>Seni</th>\n",
       "      <th>Olahraga</th>\n",
       "      <th>Teknologi</th>\n",
       "      <th>Bakat</th>\n",
       "    </tr>\n",
       "  </thead>\n",
       "  <tbody>\n",
       "    <tr>\n",
       "      <th>0</th>\n",
       "      <td>88</td>\n",
       "      <td>58</td>\n",
       "      <td>64</td>\n",
       "      <td>85</td>\n",
       "      <td>0</td>\n",
       "    </tr>\n",
       "    <tr>\n",
       "      <th>1</th>\n",
       "      <td>78</td>\n",
       "      <td>73</td>\n",
       "      <td>81</td>\n",
       "      <td>87</td>\n",
       "      <td>2</td>\n",
       "    </tr>\n",
       "    <tr>\n",
       "      <th>2</th>\n",
       "      <td>64</td>\n",
       "      <td>50</td>\n",
       "      <td>81</td>\n",
       "      <td>89</td>\n",
       "      <td>2</td>\n",
       "    </tr>\n",
       "    <tr>\n",
       "      <th>3</th>\n",
       "      <td>92</td>\n",
       "      <td>93</td>\n",
       "      <td>73</td>\n",
       "      <td>69</td>\n",
       "      <td>3</td>\n",
       "    </tr>\n",
       "    <tr>\n",
       "      <th>4</th>\n",
       "      <td>57</td>\n",
       "      <td>57</td>\n",
       "      <td>90</td>\n",
       "      <td>84</td>\n",
       "      <td>2</td>\n",
       "    </tr>\n",
       "    <tr>\n",
       "      <th>...</th>\n",
       "      <td>...</td>\n",
       "      <td>...</td>\n",
       "      <td>...</td>\n",
       "      <td>...</td>\n",
       "      <td>...</td>\n",
       "    </tr>\n",
       "    <tr>\n",
       "      <th>95</th>\n",
       "      <td>64</td>\n",
       "      <td>86</td>\n",
       "      <td>82</td>\n",
       "      <td>66</td>\n",
       "      <td>1</td>\n",
       "    </tr>\n",
       "    <tr>\n",
       "      <th>96</th>\n",
       "      <td>94</td>\n",
       "      <td>82</td>\n",
       "      <td>73</td>\n",
       "      <td>89</td>\n",
       "      <td>0</td>\n",
       "    </tr>\n",
       "    <tr>\n",
       "      <th>97</th>\n",
       "      <td>50</td>\n",
       "      <td>91</td>\n",
       "      <td>60</td>\n",
       "      <td>82</td>\n",
       "      <td>1</td>\n",
       "    </tr>\n",
       "    <tr>\n",
       "      <th>98</th>\n",
       "      <td>74</td>\n",
       "      <td>93</td>\n",
       "      <td>98</td>\n",
       "      <td>58</td>\n",
       "      <td>2</td>\n",
       "    </tr>\n",
       "    <tr>\n",
       "      <th>99</th>\n",
       "      <td>56</td>\n",
       "      <td>73</td>\n",
       "      <td>57</td>\n",
       "      <td>92</td>\n",
       "      <td>3</td>\n",
       "    </tr>\n",
       "  </tbody>\n",
       "</table>\n",
       "<p>100 rows × 5 columns</p>\n",
       "</div>"
      ],
      "text/plain": [
       "    Matematika  Seni  Olahraga  Teknologi  Bakat\n",
       "0           88    58        64         85      0\n",
       "1           78    73        81         87      2\n",
       "2           64    50        81         89      2\n",
       "3           92    93        73         69      3\n",
       "4           57    57        90         84      2\n",
       "..         ...   ...       ...        ...    ...\n",
       "95          64    86        82         66      1\n",
       "96          94    82        73         89      0\n",
       "97          50    91        60         82      1\n",
       "98          74    93        98         58      2\n",
       "99          56    73        57         92      3\n",
       "\n",
       "[100 rows x 5 columns]"
      ]
     },
     "execution_count": 32,
     "metadata": {},
     "output_type": "execute_result"
    }
   ],
   "source": [
    "#ubah data bakat jd numerik\n",
    "en = LabelEncoder()\n",
    "\n",
    "data['Bakat'] = en.fit_transform(data['Bakat'])\n",
    "data"
   ]
  },
  {
   "cell_type": "code",
   "execution_count": 33,
   "id": "2f051d9a-b741-4790-8f01-75e72fb40936",
   "metadata": {},
   "outputs": [],
   "source": [
    "#mnntukn dta x dn y\n",
    "x = data.iloc[:, :-1].values #mngmbil nilai kcuali pd klom trakhir\n",
    "y = data.iloc[:, -1].values #hny mngmbil nilai pd klom trakhir"
   ]
  },
  {
   "cell_type": "code",
   "execution_count": 34,
   "id": "ccb8d3db-7ef5-4e88-bebc-4906f1ebdb43",
   "metadata": {},
   "outputs": [
    {
     "data": {
      "text/plain": [
       "array([[88, 58, 64, 85],\n",
       "       [78, 73, 81, 87],\n",
       "       [64, 50, 81, 89],\n",
       "       [92, 93, 73, 69],\n",
       "       [57, 57, 90, 84],\n",
       "       [70, 73, 98, 97],\n",
       "       [88, 60, 98, 74],\n",
       "       [68, 66, 61, 84],\n",
       "       [72, 57, 88, 74],\n",
       "       [60, 84, 51, 78],\n",
       "       [60, 84, 52, 67],\n",
       "       [73, 82, 98, 95],\n",
       "       [85, 54, 86, 67],\n",
       "       [89, 91, 98, 51],\n",
       "       [73, 88, 66, 84],\n",
       "       [52, 90, 98, 65],\n",
       "       [71, 77, 51, 90],\n",
       "       [51, 56, 51, 85],\n",
       "       [73, 58, 77, 82],\n",
       "       [93, 57, 72, 53],\n",
       "       [79, 61, 86, 82],\n",
       "       [87, 83, 81, 63],\n",
       "       [51, 82, 82, 70],\n",
       "       [70, 97, 50, 97],\n",
       "       [82, 72, 68, 69],\n",
       "       [61, 73, 51, 57],\n",
       "       [71, 86, 93, 56],\n",
       "       [93, 84, 75, 52],\n",
       "       [74, 93, 81, 66],\n",
       "       [98, 89, 55, 82],\n",
       "       [76, 71, 81, 97],\n",
       "       [91, 76, 53, 61],\n",
       "       [77, 84, 60, 71],\n",
       "       [65, 50, 66, 71],\n",
       "       [64, 84, 87, 95],\n",
       "       [96, 86, 73, 79],\n",
       "       [93, 96, 54, 87],\n",
       "       [52, 63, 83, 87],\n",
       "       [86, 52, 55, 94],\n",
       "       [56, 50, 71, 57],\n",
       "       [70, 54, 60, 76],\n",
       "       [58, 75, 97, 76],\n",
       "       [88, 63, 65, 83],\n",
       "       [67, 88, 82, 70],\n",
       "       [53, 76, 58, 79],\n",
       "       [74, 58, 55, 82],\n",
       "       [63, 64, 65, 77],\n",
       "       [99, 64, 78, 96],\n",
       "       [58, 75, 52, 82],\n",
       "       [75, 91, 69, 54],\n",
       "       [51, 62, 85, 97],\n",
       "       [69, 81, 68, 68],\n",
       "       [77, 88, 75, 53],\n",
       "       [96, 98, 52, 84],\n",
       "       [56, 81, 68, 98],\n",
       "       [93, 53, 69, 66],\n",
       "       [57, 79, 81, 93],\n",
       "       [96, 86, 56, 77],\n",
       "       [84, 72, 90, 79],\n",
       "       [63, 88, 82, 78],\n",
       "       [66, 94, 89, 95],\n",
       "       [85, 64, 88, 55],\n",
       "       [99, 92, 67, 84],\n",
       "       [89, 78, 89, 90],\n",
       "       [53, 85, 50, 86],\n",
       "       [51, 62, 60, 73],\n",
       "       [55, 81, 77, 78],\n",
       "       [91, 56, 74, 98],\n",
       "       [53, 71, 99, 95],\n",
       "       [78, 77, 72, 80],\n",
       "       [67, 51, 80, 84],\n",
       "       [75, 91, 79, 82],\n",
       "       [93, 94, 91, 70],\n",
       "       [83, 55, 84, 81],\n",
       "       [59, 77, 56, 72],\n",
       "       [85, 77, 65, 82],\n",
       "       [63, 93, 75, 52],\n",
       "       [80, 93, 97, 67],\n",
       "       [97, 69, 98, 74],\n",
       "       [64, 79, 51, 91],\n",
       "       [57, 60, 50, 80],\n",
       "       [63, 77, 97, 52],\n",
       "       [72, 74, 61, 89],\n",
       "       [89, 88, 54, 95],\n",
       "       [70, 82, 86, 73],\n",
       "       [65, 50, 81, 99],\n",
       "       [94, 76, 58, 81],\n",
       "       [67, 62, 90, 96],\n",
       "       [96, 90, 84, 71],\n",
       "       [73, 52, 68, 72],\n",
       "       [75, 88, 97, 51],\n",
       "       [74, 55, 65, 76],\n",
       "       [94, 57, 52, 91],\n",
       "       [90, 76, 69, 51],\n",
       "       [78, 58, 73, 75],\n",
       "       [64, 86, 82, 66],\n",
       "       [94, 82, 73, 89],\n",
       "       [50, 91, 60, 82],\n",
       "       [74, 93, 98, 58],\n",
       "       [56, 73, 57, 92]], dtype=int64)"
      ]
     },
     "execution_count": 34,
     "metadata": {},
     "output_type": "execute_result"
    }
   ],
   "source": [
    "x"
   ]
  },
  {
   "cell_type": "code",
   "execution_count": 35,
   "id": "559c199a-f319-4cea-9c0d-1270ab5fe869",
   "metadata": {},
   "outputs": [
    {
     "data": {
      "text/plain": [
       "array([0, 2, 2, 3, 2, 2, 2, 3, 2, 1, 1, 2, 2, 2, 3, 1, 3, 3, 3, 3, 2, 2,\n",
       "       1, 3, 3, 3, 2, 3, 2, 0, 2, 3, 3, 3, 1, 3, 0, 2, 0, 3, 3, 2, 0, 1,\n",
       "       3, 3, 3, 0, 3, 3, 2, 1, 3, 0, 1, 3, 2, 3, 2, 1, 1, 2, 0, 0, 1, 3,\n",
       "       1, 0, 2, 3, 3, 3, 2, 0, 3, 0, 1, 2, 2, 3, 3, 2, 3, 0, 2, 2, 0, 2,\n",
       "       2, 3, 2, 3, 0, 3, 3, 1, 0, 1, 2, 3])"
      ]
     },
     "execution_count": 35,
     "metadata": {},
     "output_type": "execute_result"
    }
   ],
   "source": [
    "y"
   ]
  },
  {
   "cell_type": "code",
   "execution_count": 36,
   "id": "2595bebb-adb1-4b08-8512-b1a47d26b395",
   "metadata": {},
   "outputs": [
    {
     "name": "stdout",
     "output_type": "stream",
     "text": [
      "x_train =  80\n",
      "x_test =  20\n",
      "y_train =  80\n",
      "y_test =  20\n"
     ]
    }
   ],
   "source": [
    "#splitting data\n",
    "x_train,x_test,y_train,y_test = train_test_split(x, y, test_size=0.2, random_state=123)\n",
    "\n",
    "print(\"x_train = \", len(x_train))\n",
    "print(\"x_test = \", len(x_test))\n",
    "print(\"y_train = \", len(y_train))\n",
    "print(\"y_test = \", len(y_test))"
   ]
  },
  {
   "cell_type": "code",
   "execution_count": 37,
   "id": "db404192-c01c-4080-9ae8-aa625d81c8fb",
   "metadata": {},
   "outputs": [],
   "source": [
    "#pengskalaan nilai pada data pke standard scaller\n",
    "\n",
    "sc = StandardScaler()\n",
    "\n",
    "x_train = sc.fit_transform(x_train)\n",
    "x_test = sc.transform(x_test)"
   ]
  },
  {
   "cell_type": "code",
   "execution_count": 38,
   "id": "5185eef6-a898-44bf-a236-76bcb88d0693",
   "metadata": {},
   "outputs": [
    {
     "data": {
      "text/plain": [
       "array([[ 1.43552379,  0.8118026 ,  0.02982013,  0.18548812],\n",
       "       [ 1.43552379,  1.10140888,  0.75875666, -0.42643145],\n",
       "       [ 1.23333734, -1.28784293, -0.03644683, -1.80325047],\n",
       "       [ 1.57031476,  1.02900731, -1.1629851 ,  0.41495795],\n",
       "       [ 1.09854638,  0.0877869 , -1.29551901, -1.1913309 ],\n",
       "       [-0.04717684, -1.43264607, -0.50031553, -0.04398172],\n",
       "       [-0.65373619, -1.79465392,  0.55995579,  1.71528703],\n",
       "       [-0.9907136 ,  0.66699946, -1.42805292,  0.10899817],\n",
       "       [ 1.43552379,  1.68062144, -1.36178597,  0.56793785],\n",
       "       [-1.12550457,  0.01538533,  1.6202271 , -0.04398172],\n",
       "       [ 0.82896444,  0.59459789,  0.55995579, -1.03835101],\n",
       "       [ 0.02021864,  0.95660574,  1.6202271 , -1.95623036],\n",
       "       [-0.65373619, -1.79465392, -0.43404857, -0.42643145],\n",
       "       [ 0.22240509,  0.16018847, -0.03644683,  0.26197806],\n",
       "       [-0.31675877,  0.52219632,  0.89129057, -0.27345156],\n",
       "       [-0.51894522, -0.92583508,  1.1563584 ,  1.48581719],\n",
       "       [-0.72113167,  0.8118026 ,  0.62622274, -0.80888117],\n",
       "       [-1.66466844,  1.17381045, -0.83165031,  0.41495795],\n",
       "       [ 1.63771024,  1.24621202, -0.36778161,  0.56793785],\n",
       "       [ 0.69417348, -1.50504764,  0.89129057, -0.73239123],\n",
       "       [ 0.28980058, -0.99823665,  0.89129057,  0.41495795],\n",
       "       [-0.11457232, -1.64985078, -0.30151465, -0.3499415 ],\n",
       "       [-1.52987747, -0.85343351,  0.6924897 ,  0.79740768],\n",
       "       [-0.78852715,  0.95660574,  0.62622274,  0.10899817],\n",
       "       [ 0.22240509, -0.12941781,  0.55995579,  0.79740768],\n",
       "       [-1.05810909,  0.16018847, -1.09671814, -0.3499415 ],\n",
       "       [-0.11457232,  0.52219632,  1.68649406,  1.40932725],\n",
       "       [-0.72113167,  0.30499161, -1.42805292,  1.10336747],\n",
       "       [-0.11457232,  0.95660574, -0.43404857,  0.56793785],\n",
       "       [-1.26029554,  0.44979475, -0.30151465,  1.63879708],\n",
       "       [-0.24936329,  0.16018847, -1.42805292,  1.02687752],\n",
       "       [-0.24936329,  0.8118026 ,  1.35515927, -1.57378063],\n",
       "       [-0.38415425,  0.44979475, -0.30151465, -0.65590128],\n",
       "       [-0.04717684, -1.21544136, -1.1629851 ,  0.41495795],\n",
       "       [ 0.89635993, -1.07063822,  1.68649406, -0.19696161],\n",
       "       [-0.04717684,  1.31861359,  1.68649406, -1.42080074],\n",
       "       [ 0.08761413, -0.27422095,  0.55995579,  1.56230714],\n",
       "       [-1.46248199,  0.0877869 , -0.96418423,  0.18548812],\n",
       "       [ 1.23333734,  1.39101516,  1.22262536, -0.50292139],\n",
       "       [-0.51894522,  0.95660574,  0.62622274, -0.50292139],\n",
       "       [-1.52987747,  1.10140888,  1.68649406, -0.88537112],\n",
       "       [ 0.22240509, -1.21544136,  0.02982013, -0.12047166],\n",
       "       [-0.11457232, -1.21544136,  0.29488796,  0.41495795],\n",
       "       [ 0.96375541,  1.17381045,  1.68649406, -1.95623036],\n",
       "       [-1.59727295,  0.52219632,  0.62622274, -0.50292139],\n",
       "       [-0.9907136 ,  0.66699946, -1.36178597, -0.73239123],\n",
       "       [ 0.62677799, -0.20181938,  1.1563584 ,  0.18548812],\n",
       "       [ 0.02021864,  1.17381045,  0.42742187,  0.41495795],\n",
       "       [-1.46248199,  0.73940103, -1.49431988,  0.72091774],\n",
       "       [ 1.16594186,  1.31861359,  0.02982013, -0.57941134],\n",
       "       [-0.31675877, -1.50504764, -0.83165031, -0.04398172],\n",
       "       [-0.72113167,  0.66699946,  0.95755753,  1.40932725],\n",
       "       [ 1.23333734,  0.66699946,  0.16235404, -1.87974041],\n",
       "       [ 0.15500961,  0.95660574,  0.16235404, -1.80325047],\n",
       "       [-0.45154974, -0.6362288 , -0.76538335,  0.56793785],\n",
       "       [-1.12550457,  0.01538533, -1.36178597,  0.41495795],\n",
       "       [ 0.69417348, -0.78103194,  1.02382449, -1.65027058],\n",
       "       [ 1.03115089,  0.0877869 , -0.2352477 , -1.95623036],\n",
       "       [-1.26029554, -0.12941781, -1.03045118,  1.17985741],\n",
       "       [-1.26029554, -1.79465392, -0.10271378, -1.49729068],\n",
       "       [-0.72113167, -1.79465392,  0.55995579,  0.95038757],\n",
       "       [ 1.09854638, -1.3602445 ,  0.09608709,  1.63879708],\n",
       "       [ 1.23333734, -1.57744921, -0.2352477 , -0.80888117],\n",
       "       [ 0.02021864,  1.17381045, -0.2352477 , -1.72676052],\n",
       "       [-1.46248199, -0.27422095,  1.75276101,  1.40932725],\n",
       "       [-1.19290005, -1.07063822, -1.49431988,  0.26197806],\n",
       "       [ 1.23333734,  1.5358183 , -1.22925205,  0.79740768],\n",
       "       [ 1.50291928, -0.41902409,  1.68649406, -0.19696161],\n",
       "       [ 1.30073283,  0.52219632,  0.02982013,  0.95038757],\n",
       "       [-0.92331812, -0.12941781, -1.42805292, -1.49729068],\n",
       "       [-0.78852715, -0.78103194, -0.50031553,  0.03250823],\n",
       "       [ 0.15500961,  0.66699946, -0.83165031, -0.42643145],\n",
       "       [ 0.55938251, -1.43264607,  0.75875666,  0.33846801],\n",
       "       [ 1.63771024, -0.78103194,  0.36115492,  1.48581719],\n",
       "       [ 1.30073283,  0.0877869 , -0.96418423,  0.33846801],\n",
       "       [ 1.43552379,  0.8118026 , -1.09671814,  0.03250823],\n",
       "       [ 0.96375541,  0.95660574, -1.22925205,  1.40932725],\n",
       "       [-1.59727295, -1.3602445 , -1.42805292,  0.64442779],\n",
       "       [ 1.30073283, -1.28784293, -1.36178597,  1.10336747],\n",
       "       [-1.32769102,  0.44979475,  0.29488796,  0.10899817]])"
      ]
     },
     "execution_count": 38,
     "metadata": {},
     "output_type": "execute_result"
    }
   ],
   "source": [
    "x_train "
   ]
  },
  {
   "cell_type": "code",
   "execution_count": 39,
   "id": "3e3a78ad-5d92-488f-97d5-2be35e7d5076",
   "metadata": {},
   "outputs": [
    {
     "data": {
      "text/plain": [
       "array([[-0.1819678 , -1.28784293,  1.02382449, -0.19696161],\n",
       "       [-0.51894522, -1.72225235,  0.49368883,  0.56793785],\n",
       "       [-0.1819678 , -0.05701624, -0.76538335,  0.95038757],\n",
       "       [-0.04717684,  1.31861359,  0.55995579, -0.80888117],\n",
       "       [ 0.96375541,  0.23259004,  1.09009144,  1.02687752],\n",
       "       [ 0.89635993, -1.21544136, -0.56658248,  0.64442779],\n",
       "       [-0.31675877, -0.12941781,  1.68649406,  1.56230714],\n",
       "       [-1.59727295, -0.92583508,  0.82502362,  1.56230714],\n",
       "       [-0.78852715,  0.16018847,  1.6202271 , -1.87974041],\n",
       "       [-1.19290005, -1.28784293,  1.1563584 ,  0.56793785],\n",
       "       [-0.31675877,  1.60821987, -1.49431988,  1.56230714],\n",
       "       [-1.59727295, -0.92583508, -0.83165031, -0.27345156],\n",
       "       [-0.78852715,  1.31861359,  0.16235404, -1.87974041],\n",
       "       [-0.5863407 ,  1.39101516,  1.09009144,  1.40932725],\n",
       "       [ 0.49198703, -0.20181938, -0.30151465, -0.57941134],\n",
       "       [ 0.89635993, -0.85343351, -0.50031553,  0.4914479 ],\n",
       "       [ 0.35719606,  1.31861359,  1.6202271 , -0.73239123],\n",
       "       [ 0.76156896, -1.64985078, -1.1629851 ,  1.3328373 ],\n",
       "       [-1.19290005,  0.30499161,  0.55995579,  1.25634736],\n",
       "       [ 0.69417348,  0.16018847, -0.50031553,  0.41495795]])"
      ]
     },
     "execution_count": 39,
     "metadata": {},
     "output_type": "execute_result"
    }
   ],
   "source": [
    "x_test"
   ]
  },
  {
   "cell_type": "code",
   "execution_count": 40,
   "id": "39a9b592-151c-418b-ad6f-762313910bd2",
   "metadata": {},
   "outputs": [
    {
     "data": {
      "text/plain": [
       "array([3, 2, 3, 0, 3, 3, 2, 1, 0, 2, 2, 2, 3, 3, 2, 2, 1, 1, 0, 2, 2, 3,\n",
       "       2, 1, 2, 3, 2, 3, 3, 1, 3, 2, 1, 3, 2, 2, 2, 3, 2, 1, 1, 3, 3, 2,\n",
       "       1, 1, 2, 3, 1, 3, 3, 1, 3, 3, 3, 3, 2, 3, 3, 3, 2, 0, 3, 3, 2, 3,\n",
       "       0, 2, 0, 3, 3, 3, 0, 0, 0, 3, 0, 3, 0, 1])"
      ]
     },
     "execution_count": 40,
     "metadata": {},
     "output_type": "execute_result"
    }
   ],
   "source": [
    "y_train"
   ]
  },
  {
   "cell_type": "code",
   "execution_count": 41,
   "id": "acb7bc90-8d10-4208-8193-32377e33e523",
   "metadata": {},
   "outputs": [
    {
     "data": {
      "text/plain": [
       "array([2, 3, 3, 2, 0, 0, 2, 2, 2, 2, 3, 3, 1, 1, 3, 0, 2, 0, 2, 0])"
      ]
     },
     "execution_count": 41,
     "metadata": {},
     "output_type": "execute_result"
    }
   ],
   "source": [
    "y_test"
   ]
  },
  {
   "cell_type": "code",
   "execution_count": 42,
   "id": "714fc334-86c3-4044-bc1a-7f934c627f25",
   "metadata": {},
   "outputs": [
    {
     "data": {
      "text/html": [
       "<style>#sk-container-id-2 {color: black;}#sk-container-id-2 pre{padding: 0;}#sk-container-id-2 div.sk-toggleable {background-color: white;}#sk-container-id-2 label.sk-toggleable__label {cursor: pointer;display: block;width: 100%;margin-bottom: 0;padding: 0.3em;box-sizing: border-box;text-align: center;}#sk-container-id-2 label.sk-toggleable__label-arrow:before {content: \"▸\";float: left;margin-right: 0.25em;color: #696969;}#sk-container-id-2 label.sk-toggleable__label-arrow:hover:before {color: black;}#sk-container-id-2 div.sk-estimator:hover label.sk-toggleable__label-arrow:before {color: black;}#sk-container-id-2 div.sk-toggleable__content {max-height: 0;max-width: 0;overflow: hidden;text-align: left;background-color: #f0f8ff;}#sk-container-id-2 div.sk-toggleable__content pre {margin: 0.2em;color: black;border-radius: 0.25em;background-color: #f0f8ff;}#sk-container-id-2 input.sk-toggleable__control:checked~div.sk-toggleable__content {max-height: 200px;max-width: 100%;overflow: auto;}#sk-container-id-2 input.sk-toggleable__control:checked~label.sk-toggleable__label-arrow:before {content: \"▾\";}#sk-container-id-2 div.sk-estimator input.sk-toggleable__control:checked~label.sk-toggleable__label {background-color: #d4ebff;}#sk-container-id-2 div.sk-label input.sk-toggleable__control:checked~label.sk-toggleable__label {background-color: #d4ebff;}#sk-container-id-2 input.sk-hidden--visually {border: 0;clip: rect(1px 1px 1px 1px);clip: rect(1px, 1px, 1px, 1px);height: 1px;margin: -1px;overflow: hidden;padding: 0;position: absolute;width: 1px;}#sk-container-id-2 div.sk-estimator {font-family: monospace;background-color: #f0f8ff;border: 1px dotted black;border-radius: 0.25em;box-sizing: border-box;margin-bottom: 0.5em;}#sk-container-id-2 div.sk-estimator:hover {background-color: #d4ebff;}#sk-container-id-2 div.sk-parallel-item::after {content: \"\";width: 100%;border-bottom: 1px solid gray;flex-grow: 1;}#sk-container-id-2 div.sk-label:hover label.sk-toggleable__label {background-color: #d4ebff;}#sk-container-id-2 div.sk-serial::before {content: \"\";position: absolute;border-left: 1px solid gray;box-sizing: border-box;top: 0;bottom: 0;left: 50%;z-index: 0;}#sk-container-id-2 div.sk-serial {display: flex;flex-direction: column;align-items: center;background-color: white;padding-right: 0.2em;padding-left: 0.2em;position: relative;}#sk-container-id-2 div.sk-item {position: relative;z-index: 1;}#sk-container-id-2 div.sk-parallel {display: flex;align-items: stretch;justify-content: center;background-color: white;position: relative;}#sk-container-id-2 div.sk-item::before, #sk-container-id-2 div.sk-parallel-item::before {content: \"\";position: absolute;border-left: 1px solid gray;box-sizing: border-box;top: 0;bottom: 0;left: 50%;z-index: -1;}#sk-container-id-2 div.sk-parallel-item {display: flex;flex-direction: column;z-index: 1;position: relative;background-color: white;}#sk-container-id-2 div.sk-parallel-item:first-child::after {align-self: flex-end;width: 50%;}#sk-container-id-2 div.sk-parallel-item:last-child::after {align-self: flex-start;width: 50%;}#sk-container-id-2 div.sk-parallel-item:only-child::after {width: 0;}#sk-container-id-2 div.sk-dashed-wrapped {border: 1px dashed gray;margin: 0 0.4em 0.5em 0.4em;box-sizing: border-box;padding-bottom: 0.4em;background-color: white;}#sk-container-id-2 div.sk-label label {font-family: monospace;font-weight: bold;display: inline-block;line-height: 1.2em;}#sk-container-id-2 div.sk-label-container {text-align: center;}#sk-container-id-2 div.sk-container {/* jupyter's `normalize.less` sets `[hidden] { display: none; }` but bootstrap.min.css set `[hidden] { display: none !important; }` so we also need the `!important` here to be able to override the default hidden behavior on the sphinx rendered scikit-learn.org. See: https://github.com/scikit-learn/scikit-learn/issues/21755 */display: inline-block !important;position: relative;}#sk-container-id-2 div.sk-text-repr-fallback {display: none;}</style><div id=\"sk-container-id-2\" class=\"sk-top-container\"><div class=\"sk-text-repr-fallback\"><pre>GaussianNB()</pre><b>In a Jupyter environment, please rerun this cell to show the HTML representation or trust the notebook. <br />On GitHub, the HTML representation is unable to render, please try loading this page with nbviewer.org.</b></div><div class=\"sk-container\" hidden><div class=\"sk-item\"><div class=\"sk-estimator sk-toggleable\"><input class=\"sk-toggleable__control sk-hidden--visually\" id=\"sk-estimator-id-2\" type=\"checkbox\" checked><label for=\"sk-estimator-id-2\" class=\"sk-toggleable__label sk-toggleable__label-arrow\">GaussianNB</label><div class=\"sk-toggleable__content\"><pre>GaussianNB()</pre></div></div></div></div></div>"
      ],
      "text/plain": [
       "GaussianNB()"
      ]
     },
     "execution_count": 42,
     "metadata": {},
     "output_type": "execute_result"
    }
   ],
   "source": [
    "#training model pke nb\n",
    "\n",
    "classifier = GaussianNB()\n",
    "classifier.fit(x_train, y_train)"
   ]
  },
  {
   "cell_type": "code",
   "execution_count": 43,
   "id": "e4adfc5c-1f34-4009-bf08-e020838ea8ad",
   "metadata": {},
   "outputs": [
    {
     "data": {
      "text/plain": [
       "array([2, 2, 3, 2, 2, 0, 2, 2, 2, 2, 3, 3, 3, 2, 3, 3, 2, 0, 1, 3])"
      ]
     },
     "execution_count": 43,
     "metadata": {},
     "output_type": "execute_result"
    }
   ],
   "source": [
    "#prediksi\n",
    "y_pred = classifier.predict(x_test)\n",
    "y_pred"
   ]
  },
  {
   "cell_type": "code",
   "execution_count": 44,
   "id": "3203d145-7f1e-4c00-9672-5c6746b07ed8",
   "metadata": {},
   "outputs": [
    {
     "data": {
      "text/plain": [
       "array([[1.06479779e-07, 5.68443579e-17, 9.60560060e-01, 3.94398337e-02],\n",
       "       [3.22406068e-08, 4.11464195e-23, 5.50635837e-01, 4.49364131e-01],\n",
       "       [3.41781584e-05, 8.73361978e-04, 1.49905620e-04, 9.98942554e-01],\n",
       "       [1.74467625e-07, 2.16482656e-02, 7.11511990e-01, 2.66839570e-01],\n",
       "       [1.70844322e-01, 8.70385073e-07, 8.21076123e-01, 8.07868404e-03],\n",
       "       [5.45107574e-01, 7.36196805e-20, 3.30522489e-04, 4.54561903e-01],\n",
       "       [3.63524972e-08, 1.60985485e-04, 9.99221308e-01, 6.17670419e-04],\n",
       "       [9.08743820e-20, 1.16343540e-10, 9.33163849e-01, 6.68361505e-02],\n",
       "       [2.84011968e-19, 1.96290953e-02, 9.78573833e-01, 1.79707192e-03],\n",
       "       [1.59039758e-15, 1.41169509e-15, 9.77252134e-01, 2.27478662e-02],\n",
       "       [1.65423670e-05, 4.40886395e-03, 2.41597300e-07, 9.95574352e-01],\n",
       "       [8.38834392e-21, 8.65291922e-11, 2.32579649e-05, 9.99976742e-01],\n",
       "       [2.15402826e-17, 1.98133044e-01, 1.40098435e-01, 6.61768521e-01],\n",
       "       [2.99219436e-09, 4.29005563e-02, 9.48678753e-01, 8.42068730e-03],\n",
       "       [3.85001455e-04, 7.50613316e-07, 5.17228225e-03, 9.94441966e-01],\n",
       "       [4.65417652e-01, 5.82545121e-15, 6.75671000e-04, 5.33906677e-01],\n",
       "       [1.81085192e-06, 3.89107462e-04, 9.98047856e-01, 1.56122543e-03],\n",
       "       [5.44015491e-01, 2.48003655e-26, 1.98723412e-06, 4.55982522e-01],\n",
       "       [8.47854279e-15, 6.45675424e-01, 2.72200573e-01, 8.21240028e-02],\n",
       "       [2.16675852e-01, 1.70980505e-05, 1.10554989e-03, 7.82201500e-01]])"
      ]
     },
     "execution_count": 44,
     "metadata": {},
     "output_type": "execute_result"
    }
   ],
   "source": [
    "#predik probabilitas\n",
    "classifier.predict_proba(x_test)"
   ]
  },
  {
   "cell_type": "code",
   "execution_count": 45,
   "id": "c6b27d2b-2e3a-4599-b900-e752b07c375d",
   "metadata": {},
   "outputs": [
    {
     "name": "stdout",
     "output_type": "stream",
     "text": [
      "[[2 0 1 2]\n",
      " [0 0 1 1]\n",
      " [0 1 7 0]\n",
      " [0 0 1 4]]\n"
     ]
    }
   ],
   "source": [
    "#evaluasi\n",
    "#confusion matriks\n",
    "cm = confusion_matrix(y_test, y_pred)\n",
    "print(cm)"
   ]
  },
  {
   "cell_type": "code",
   "execution_count": 46,
   "id": "78bf6b64-a9ba-42e5-9d8d-8dde086371fe",
   "metadata": {},
   "outputs": [
    {
     "data": {
      "text/plain": [
       "'              precision    recall  f1-score   support\\n\\n           0       1.00      0.40      0.57         5\\n           1       0.00      0.00      0.00         2\\n           2       0.70      0.88      0.78         8\\n           3       0.57      0.80      0.67         5\\n\\n    accuracy                           0.65        20\\n   macro avg       0.57      0.52      0.50        20\\nweighted avg       0.67      0.65      0.62        20\\n'"
      ]
     },
     "execution_count": 46,
     "metadata": {},
     "output_type": "execute_result"
    }
   ],
   "source": [
    "#evaluasi\n",
    "#clasification report\n",
    "akurasi = classification_report(y_test, y_pred)\n",
    "akurasi"
   ]
  },
  {
   "cell_type": "code",
   "execution_count": 47,
   "id": "46080ebe-7a62-49cf-9a61-aa8bd9438cd5",
   "metadata": {},
   "outputs": [
    {
     "name": "stdout",
     "output_type": "stream",
     "text": [
      "tingkat akurasi = 65 persen\n"
     ]
    }
   ],
   "source": [
    "#lht akurasi \n",
    "akurasi = accuracy_score(y_test, y_pred)\n",
    "print(\"tingkat akurasi = %d persen\"%(akurasi*100))"
   ]
  },
  {
   "cell_type": "code",
   "execution_count": 48,
   "id": "0378c041-71ba-472f-9d64-9ebc41bd3fdb",
   "metadata": {},
   "outputs": [
    {
     "data": {
      "text/html": [
       "<div>\n",
       "<style scoped>\n",
       "    .dataframe tbody tr th:only-of-type {\n",
       "        vertical-align: middle;\n",
       "    }\n",
       "\n",
       "    .dataframe tbody tr th {\n",
       "        vertical-align: top;\n",
       "    }\n",
       "\n",
       "    .dataframe thead th {\n",
       "        text-align: right;\n",
       "    }\n",
       "</style>\n",
       "<table border=\"1\" class=\"dataframe\">\n",
       "  <thead>\n",
       "    <tr style=\"text-align: right;\">\n",
       "      <th></th>\n",
       "      <th>y_test</th>\n",
       "      <th>y_pred</th>\n",
       "    </tr>\n",
       "  </thead>\n",
       "  <tbody>\n",
       "    <tr>\n",
       "      <th>0</th>\n",
       "      <td>2</td>\n",
       "      <td>2</td>\n",
       "    </tr>\n",
       "    <tr>\n",
       "      <th>1</th>\n",
       "      <td>3</td>\n",
       "      <td>2</td>\n",
       "    </tr>\n",
       "    <tr>\n",
       "      <th>2</th>\n",
       "      <td>3</td>\n",
       "      <td>3</td>\n",
       "    </tr>\n",
       "    <tr>\n",
       "      <th>3</th>\n",
       "      <td>2</td>\n",
       "      <td>2</td>\n",
       "    </tr>\n",
       "    <tr>\n",
       "      <th>4</th>\n",
       "      <td>0</td>\n",
       "      <td>2</td>\n",
       "    </tr>\n",
       "    <tr>\n",
       "      <th>5</th>\n",
       "      <td>0</td>\n",
       "      <td>0</td>\n",
       "    </tr>\n",
       "    <tr>\n",
       "      <th>6</th>\n",
       "      <td>2</td>\n",
       "      <td>2</td>\n",
       "    </tr>\n",
       "    <tr>\n",
       "      <th>7</th>\n",
       "      <td>2</td>\n",
       "      <td>2</td>\n",
       "    </tr>\n",
       "    <tr>\n",
       "      <th>8</th>\n",
       "      <td>2</td>\n",
       "      <td>2</td>\n",
       "    </tr>\n",
       "    <tr>\n",
       "      <th>9</th>\n",
       "      <td>2</td>\n",
       "      <td>2</td>\n",
       "    </tr>\n",
       "    <tr>\n",
       "      <th>10</th>\n",
       "      <td>3</td>\n",
       "      <td>3</td>\n",
       "    </tr>\n",
       "    <tr>\n",
       "      <th>11</th>\n",
       "      <td>3</td>\n",
       "      <td>3</td>\n",
       "    </tr>\n",
       "    <tr>\n",
       "      <th>12</th>\n",
       "      <td>1</td>\n",
       "      <td>3</td>\n",
       "    </tr>\n",
       "    <tr>\n",
       "      <th>13</th>\n",
       "      <td>1</td>\n",
       "      <td>2</td>\n",
       "    </tr>\n",
       "    <tr>\n",
       "      <th>14</th>\n",
       "      <td>3</td>\n",
       "      <td>3</td>\n",
       "    </tr>\n",
       "    <tr>\n",
       "      <th>15</th>\n",
       "      <td>0</td>\n",
       "      <td>3</td>\n",
       "    </tr>\n",
       "    <tr>\n",
       "      <th>16</th>\n",
       "      <td>2</td>\n",
       "      <td>2</td>\n",
       "    </tr>\n",
       "    <tr>\n",
       "      <th>17</th>\n",
       "      <td>0</td>\n",
       "      <td>0</td>\n",
       "    </tr>\n",
       "    <tr>\n",
       "      <th>18</th>\n",
       "      <td>2</td>\n",
       "      <td>1</td>\n",
       "    </tr>\n",
       "    <tr>\n",
       "      <th>19</th>\n",
       "      <td>0</td>\n",
       "      <td>3</td>\n",
       "    </tr>\n",
       "  </tbody>\n",
       "</table>\n",
       "</div>"
      ],
      "text/plain": [
       "    y_test  y_pred\n",
       "0        2       2\n",
       "1        3       2\n",
       "2        3       3\n",
       "3        2       2\n",
       "4        0       2\n",
       "5        0       0\n",
       "6        2       2\n",
       "7        2       2\n",
       "8        2       2\n",
       "9        2       2\n",
       "10       3       3\n",
       "11       3       3\n",
       "12       1       3\n",
       "13       1       2\n",
       "14       3       3\n",
       "15       0       3\n",
       "16       2       2\n",
       "17       0       0\n",
       "18       2       1\n",
       "19       0       3"
      ]
     },
     "execution_count": 48,
     "metadata": {},
     "output_type": "execute_result"
    }
   ],
   "source": [
    "ydata = pd.DataFrame()\n",
    "ydata['y_test'] = pd.DataFrame(y_test)\n",
    "ydata['y_pred'] = pd.DataFrame(y_pred)\n",
    "\n",
    "ydata"
   ]
  },
  {
   "cell_type": "code",
   "execution_count": null,
   "id": "12f62935-64fe-4efc-afd9-beedbb314f34",
   "metadata": {},
   "outputs": [],
   "source": []
  }
 ],
 "metadata": {
  "kernelspec": {
   "display_name": "Python 3 (ipykernel)",
   "language": "python",
   "name": "python3"
  },
  "language_info": {
   "codemirror_mode": {
    "name": "ipython",
    "version": 3
   },
   "file_extension": ".py",
   "mimetype": "text/x-python",
   "name": "python",
   "nbconvert_exporter": "python",
   "pygments_lexer": "ipython3",
   "version": "3.12.6"
  }
 },
 "nbformat": 4,
 "nbformat_minor": 5
}
